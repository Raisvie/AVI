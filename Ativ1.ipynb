{
 "cells": [
  {
   "cell_type": "markdown",
   "metadata": {},
   "source": [
    "Tarefas:\n",
    "\n",
    "• Solicite ao usuário o número do RA.\n",
    "\n",
    "• Calcule a soma dos dígitos do RA.\n",
    "\n",
    "• Defina  (soma dos dígitos do RA).\n",
    "\n",
    "• Calcule e imprima a altura máxima atingida pelo projétil usando a expressão: hmax=v202g\n",
    "\n",
    "• Mostre o valor de  utilizado e a altura máxima calculada.\n"
   ]
  },
  {
   "cell_type": "code",
   "execution_count": 9,
   "metadata": {},
   "outputs": [
    {
     "name": "stdout",
     "output_type": "stream",
     "text": [
      "A soma dos dígitos do RA é: 26\n"
     ]
    }
   ],
   "source": [
    "## escrita inicial\n",
    "RA = input(\"Digite o número do RA (apenas números): \")\n",
    "\n",
    "soma = 0\n",
    "\n",
    "## percorrer pelo numeros do RA\n",
    "for digito in RA:\n",
    "    if digito.isdigit():\n",
    "        soma += int(digito)\n",
    "    else:\n",
    "        break\n",
    "else:\n",
    "    print(\"A soma dos dígitos do RA é:\", soma)\n",
    "\n",
    "SomaRA = soma"
   ]
  },
  {
   "cell_type": "code",
   "execution_count": 10,
   "metadata": {},
   "outputs": [
    {
     "name": "stdout",
     "output_type": "stream",
     "text": [
      "A resposta é 137.95918367346937\n"
     ]
    }
   ],
   "source": [
    "calcular_soma_dos_digitos = lambda RA: sum(int(digito) for digito in RA)\n",
    "\n",
    "Vo = SomaRA * 2\n",
    "\n",
    "Hmax = (Vo**2)/(2*9.8)\n",
    "\n",
    "print (\"A resposta é\", Hmax)"
   ]
  },
  {
   "cell_type": "markdown",
   "metadata": {},
   "source": [
    "Codigo final"
   ]
  },
  {
   "cell_type": "code",
   "execution_count": 11,
   "metadata": {},
   "outputs": [
    {
     "name": "stdout",
     "output_type": "stream",
     "text": [
      "\n",
      "Soma dos dígitos do RA: 26\n",
      "Velocidade inicial (v0): 52 m/s\n",
      "Altura máxima atingida: 137.96 metros\n"
     ]
    }
   ],
   "source": [
    "def calcular_soma_dos_digitos(ra: str) -> int:\n",
    "    return sum(int(digito) for digito in ra if digito.isdigit())\n",
    "\n",
    "def main():\n",
    "    # Solicita o número do RA ao usuário\n",
    "    ra = input(\"Digite o número do RA (apenas números): \").strip()\n",
    "\n",
    "    # Calcula a soma dos dígitos\n",
    "    soma_ra = calcular_soma_dos_digitos(ra)\n",
    "\n",
    "    # Define a velocidade inicial como o dobro da soma dos dígitos\n",
    "    v0 = soma_ra * 2\n",
    "\n",
    "    # Define a gravidade\n",
    "    gravidade = 9.8\n",
    "\n",
    "    # Calcula a altura máxima\n",
    "    hmax = (v0 ** 2) / (2 * gravidade)\n",
    "\n",
    "    # Exibe os resultados\n",
    "    print(f\"\\nSoma dos dígitos do RA: {soma_ra}\")\n",
    "    print(f\"Velocidade inicial (v0): {v0} m/s\")\n",
    "    print(f\"Altura máxima atingida: {hmax:.2f} metros\")\n",
    "\n",
    "if __name__ == \"__main__\":\n",
    "    main()"
   ]
  },
  {
   "cell_type": "markdown",
   "metadata": {},
   "source": [
    "![alt text](fluxo.png)"
   ]
  }
 ],
 "metadata": {
  "kernelspec": {
   "display_name": "base",
   "language": "python",
   "name": "python3"
  },
  "language_info": {
   "codemirror_mode": {
    "name": "ipython",
    "version": 3
   },
   "file_extension": ".py",
   "mimetype": "text/x-python",
   "name": "python",
   "nbconvert_exporter": "python",
   "pygments_lexer": "ipython3",
   "version": "3.12.7"
  }
 },
 "nbformat": 4,
 "nbformat_minor": 2
}
