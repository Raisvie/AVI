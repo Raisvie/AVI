{
 "cells": [
  {
   "cell_type": "markdown",
   "metadata": {},
   "source": [
    "Tarefas:\n",
    "\n",
    "• Solicite ao usuário o número do RA.\n",
    "\n",
    "• Calcule a soma dos dígitos do RA.\n",
    "\n",
    "• Defina  (soma dos dígitos do RA).\n",
    "\n",
    "• Calcule e imprima a altura máxima atingida pelo projétil usando a expressão: hmax=v202g\n",
    "\n",
    "• Mostre o valor de  utilizado e a altura máxima calculada.\n"
   ]
  },
  {
   "cell_type": "code",
   "execution_count": 3,
   "metadata": {},
   "outputs": [
    {
     "name": "stdout",
     "output_type": "stream",
     "text": [
      "A soma dos dígitos do RA é: 18\n"
     ]
    }
   ],
   "source": [
    "RA = input(\"Digite o número do RA (apenas números): \")\n",
    "\n",
    "soma = 0\n",
    "\n",
    "\n",
    "## percorrer pelo numeros do RA\n",
    "for digito in RA:\n",
    "    if digito.isdigit():\n",
    "        soma += int(digito)\n",
    "    else:\n",
    "        break\n",
    "else:\n",
    "    print(\"A soma dos dígitos do RA é:\", soma)\n",
    "\n",
    "SomaRA = soma"
   ]
  },
  {
   "cell_type": "code",
   "execution_count": null,
   "metadata": {},
   "outputs": [],
   "source": []
  },
  {
   "cell_type": "code",
   "execution_count": null,
   "metadata": {},
   "outputs": [],
   "source": [
    "calcular_soma_dos_digitos = lambda RA: sum(int(digito) for digito in RA)"
   ]
  },
  {
   "cell_type": "code",
   "execution_count": null,
   "metadata": {},
   "outputs": [],
   "source": [
    "Vo = SomaRA * 2\n",
    "\n",
    "Hmax = (Vo**2)/(2*9.8)\n",
    "\n",
    "print (\"A resposta é\", Hmax)"
   ]
  },
  {
   "cell_type": "code",
   "execution_count": null,
   "metadata": {},
   "outputs": [],
   "source": [
    "#solicitar RA"
   ]
  }
 ],
 "metadata": {
  "kernelspec": {
   "display_name": "base",
   "language": "python",
   "name": "python3"
  },
  "language_info": {
   "codemirror_mode": {
    "name": "ipython",
    "version": 3
   },
   "file_extension": ".py",
   "mimetype": "text/x-python",
   "name": "python",
   "nbconvert_exporter": "python",
   "pygments_lexer": "ipython3",
   "version": "3.12.7"
  }
 },
 "nbformat": 4,
 "nbformat_minor": 2
}
